{
  "nbformat": 4,
  "nbformat_minor": 0,
  "metadata": {
    "colab": {
      "name": "Image Classifier - Cats and Dogs.ipynb",
      "provenance": []
    },
    "kernelspec": {
      "name": "python3",
      "display_name": "Python 3"
    },
    "accelerator": "TPU"
  },
  "cells": [
    {
      "cell_type": "markdown",
      "metadata": {
        "id": "LXnsoVVlJg1L",
        "colab_type": "text"
      },
      "source": [
        "Building and training a Convolutional Neural Network to recognise a dog or a cat."
      ]
    },
    {
      "cell_type": "code",
      "metadata": {
        "id": "uPAt3r9AJVTI",
        "colab_type": "code",
        "colab": {
          "base_uri": "https://localhost:8080/",
          "height": 34
        },
        "outputId": "3ea2e012-600f-4358-dd87-2e7467adafcc"
      },
      "source": [
        "import tensorflow as tf\n",
        "from keras.preprocessing.image import ImageDataGenerator"
      ],
      "execution_count": 1,
      "outputs": [
        {
          "output_type": "stream",
          "text": [
            "Using TensorFlow backend.\n"
          ],
          "name": "stderr"
        }
      ]
    },
    {
      "cell_type": "markdown",
      "metadata": {
        "id": "L5YmUVh7Xl0F",
        "colab_type": "text"
      },
      "source": [
        "## PART 1: Data Preprocessing"
      ]
    },
    {
      "cell_type": "markdown",
      "metadata": {
        "id": "gK__8nejXrMO",
        "colab_type": "text"
      },
      "source": [
        "### Preprocessing the Training Set"
      ]
    },
    {
      "cell_type": "code",
      "metadata": {
        "id": "bOJckYuiLY-G",
        "colab_type": "code",
        "colab": {
          "base_uri": "https://localhost:8080/",
          "height": 34
        },
        "outputId": "70e4b21a-1dc2-41e5-94ee-f14c292a788a"
      },
      "source": [
        "#Image Augmentation\n",
        "train_datagen = ImageDataGenerator(\n",
        "    rescale = 1./255,\n",
        "    shear_range = 0.2,\n",
        "    zoom_range = 0.2,\n",
        "    horizontal_flip = True)\n",
        "\n",
        "# Import the dataset\n",
        "training_set = train_datagen.flow_from_directory(\n",
        "    '/content/drive/My Drive/Colab Notebooks/dataset/training_set',\n",
        "    target_size = (64, 64),\n",
        "    batch_size = 32,\n",
        "    class_mode = 'binary'\n",
        ")"
      ],
      "execution_count": 2,
      "outputs": [
        {
          "output_type": "stream",
          "text": [
            "Found 8000 images belonging to 2 classes.\n"
          ],
          "name": "stdout"
        }
      ]
    },
    {
      "cell_type": "markdown",
      "metadata": {
        "id": "mxlZ3uEMdXqm",
        "colab_type": "text"
      },
      "source": [
        "### Preprocessing the Test Set"
      ]
    },
    {
      "cell_type": "code",
      "metadata": {
        "id": "2yiCw1rndbX-",
        "colab_type": "code",
        "colab": {
          "base_uri": "https://localhost:8080/",
          "height": 34
        },
        "outputId": "6b98daca-da6d-44b7-c717-4e909aed59d8"
      },
      "source": [
        "test_datagen = ImageDataGenerator(rescale = 1./255)\n",
        "\n",
        "# Import the dataset\n",
        "test_set = test_datagen.flow_from_directory(\n",
        "    '/content/drive/My Drive/Colab Notebooks/dataset/test_set',\n",
        "    target_size = (64, 64),\n",
        "    batch_size = 32,\n",
        "    class_mode = 'binary'\n",
        ")"
      ],
      "execution_count": 3,
      "outputs": [
        {
          "output_type": "stream",
          "text": [
            "Found 2000 images belonging to 2 classes.\n"
          ],
          "name": "stdout"
        }
      ]
    },
    {
      "cell_type": "markdown",
      "metadata": {
        "id": "1MDYeEkseMH3",
        "colab_type": "text"
      },
      "source": [
        "## PART 2: Building CNN"
      ]
    },
    {
      "cell_type": "code",
      "metadata": {
        "id": "SacWv5v5eP2G",
        "colab_type": "code",
        "colab": {}
      },
      "source": [
        "cnn = tf.keras.models.Sequential()\n",
        "cnn.add(tf.keras.layers.Conv2D(filters = 32, kernel_size = 3, activation = 'relu', input_shape = [64, 64, 3])) # First Convolutional Layer\n",
        "cnn.add(tf.keras.layers.MaxPool2D(pool_size = (2, 2), strides = 2)) # MaxPooling Layer\n",
        "cnn.add(tf.keras.layers.Conv2D(filters = 32, kernel_size = 3, activation = 'relu')) # Second Convolutional Layer\n",
        "cnn.add(tf.keras.layers.MaxPool2D(pool_size = (2, 2), strides = 2)) # MaxPooling Layer\n",
        "cnn.add(tf.keras.layers.Flatten()) # Flattening\n",
        "cnn.add(tf.keras.layers.Dense(units = 128, activation = 'relu')) # Full Connection Layer\n",
        "cnn.add(tf.keras.layers.Dense(units = 1, activation = 'sigmoid')) # Output Layer"
      ],
      "execution_count": 4,
      "outputs": []
    },
    {
      "cell_type": "markdown",
      "metadata": {
        "id": "dmIQMKJnpiZU",
        "colab_type": "text"
      },
      "source": [
        "## PART 3: Training the CNN"
      ]
    },
    {
      "cell_type": "code",
      "metadata": {
        "id": "aAIGJf_dpSEr",
        "colab_type": "code",
        "colab": {}
      },
      "source": [
        "cnn.compile(optimizer = 'adam',\n",
        "            loss = 'binary_crossentropy',\n",
        "            metrics = ['accuracy'])"
      ],
      "execution_count": 5,
      "outputs": []
    },
    {
      "cell_type": "code",
      "metadata": {
        "id": "2VQJkV0Bp-nP",
        "colab_type": "code",
        "colab": {
          "base_uri": "https://localhost:8080/",
          "height": 884
        },
        "outputId": "d208b513-8e74-44bf-fb7e-b50ec5dae37e"
      },
      "source": [
        "cnn.fit(x = training_set, validation_data = test_set, epochs = 25)"
      ],
      "execution_count": 6,
      "outputs": [
        {
          "output_type": "stream",
          "text": [
            "Epoch 1/25\n",
            "250/250 [==============================] - 4166s 17s/step - loss: 0.6678 - accuracy: 0.5841 - val_loss: 0.6401 - val_accuracy: 0.6465\n",
            "Epoch 2/25\n",
            "250/250 [==============================] - 84s 337ms/step - loss: 0.6190 - accuracy: 0.6614 - val_loss: 0.5914 - val_accuracy: 0.6990\n",
            "Epoch 3/25\n",
            "250/250 [==============================] - 86s 343ms/step - loss: 0.5712 - accuracy: 0.7053 - val_loss: 0.5700 - val_accuracy: 0.7240\n",
            "Epoch 4/25\n",
            "250/250 [==============================] - 85s 339ms/step - loss: 0.5280 - accuracy: 0.7389 - val_loss: 0.5155 - val_accuracy: 0.7475\n",
            "Epoch 5/25\n",
            "250/250 [==============================] - 84s 336ms/step - loss: 0.5016 - accuracy: 0.7567 - val_loss: 0.5425 - val_accuracy: 0.7380\n",
            "Epoch 6/25\n",
            "250/250 [==============================] - 84s 337ms/step - loss: 0.4817 - accuracy: 0.7650 - val_loss: 0.4750 - val_accuracy: 0.7800\n",
            "Epoch 7/25\n",
            "250/250 [==============================] - 84s 336ms/step - loss: 0.4547 - accuracy: 0.7879 - val_loss: 0.4584 - val_accuracy: 0.7915\n",
            "Epoch 8/25\n",
            "250/250 [==============================] - 83s 333ms/step - loss: 0.4496 - accuracy: 0.7822 - val_loss: 0.4972 - val_accuracy: 0.7765\n",
            "Epoch 9/25\n",
            "250/250 [==============================] - 88s 352ms/step - loss: 0.4250 - accuracy: 0.8035 - val_loss: 0.4984 - val_accuracy: 0.7650\n",
            "Epoch 10/25\n",
            "250/250 [==============================] - 86s 346ms/step - loss: 0.4144 - accuracy: 0.8079 - val_loss: 0.4466 - val_accuracy: 0.8030\n",
            "Epoch 11/25\n",
            "250/250 [==============================] - 85s 338ms/step - loss: 0.4013 - accuracy: 0.8159 - val_loss: 0.4356 - val_accuracy: 0.8130\n",
            "Epoch 12/25\n",
            "250/250 [==============================] - 84s 336ms/step - loss: 0.3863 - accuracy: 0.8264 - val_loss: 0.4326 - val_accuracy: 0.8085\n",
            "Epoch 13/25\n",
            "250/250 [==============================] - 84s 337ms/step - loss: 0.3586 - accuracy: 0.8403 - val_loss: 0.5484 - val_accuracy: 0.7525\n",
            "Epoch 14/25\n",
            "250/250 [==============================] - 86s 345ms/step - loss: 0.3538 - accuracy: 0.8435 - val_loss: 0.4497 - val_accuracy: 0.8065\n",
            "Epoch 15/25\n",
            "250/250 [==============================] - 84s 336ms/step - loss: 0.3437 - accuracy: 0.8501 - val_loss: 0.4628 - val_accuracy: 0.7910\n",
            "Epoch 16/25\n",
            "250/250 [==============================] - 89s 355ms/step - loss: 0.3287 - accuracy: 0.8587 - val_loss: 0.4579 - val_accuracy: 0.8025\n",
            "Epoch 17/25\n",
            "250/250 [==============================] - 86s 345ms/step - loss: 0.3096 - accuracy: 0.8685 - val_loss: 0.5162 - val_accuracy: 0.7855\n",
            "Epoch 18/25\n",
            "250/250 [==============================] - 85s 340ms/step - loss: 0.3062 - accuracy: 0.8687 - val_loss: 0.4648 - val_accuracy: 0.8085\n",
            "Epoch 19/25\n",
            "250/250 [==============================] - 81s 326ms/step - loss: 0.2800 - accuracy: 0.8823 - val_loss: 0.4948 - val_accuracy: 0.8075\n",
            "Epoch 20/25\n",
            "250/250 [==============================] - 82s 328ms/step - loss: 0.2684 - accuracy: 0.8888 - val_loss: 0.4875 - val_accuracy: 0.8060\n",
            "Epoch 21/25\n",
            "250/250 [==============================] - 82s 329ms/step - loss: 0.2530 - accuracy: 0.8931 - val_loss: 0.5643 - val_accuracy: 0.7860\n",
            "Epoch 22/25\n",
            "250/250 [==============================] - 82s 326ms/step - loss: 0.2436 - accuracy: 0.8994 - val_loss: 0.5191 - val_accuracy: 0.8005\n",
            "Epoch 23/25\n",
            "250/250 [==============================] - 82s 328ms/step - loss: 0.2374 - accuracy: 0.9024 - val_loss: 0.5010 - val_accuracy: 0.8175\n",
            "Epoch 24/25\n",
            "250/250 [==============================] - 81s 326ms/step - loss: 0.2197 - accuracy: 0.9075 - val_loss: 0.5079 - val_accuracy: 0.8110\n",
            "Epoch 25/25\n",
            "250/250 [==============================] - 83s 331ms/step - loss: 0.2120 - accuracy: 0.9130 - val_loss: 0.5265 - val_accuracy: 0.7980\n"
          ],
          "name": "stdout"
        },
        {
          "output_type": "execute_result",
          "data": {
            "text/plain": [
              "<tensorflow.python.keras.callbacks.History at 0x7f882cebf358>"
            ]
          },
          "metadata": {
            "tags": []
          },
          "execution_count": 6
        }
      ]
    },
    {
      "cell_type": "markdown",
      "metadata": {
        "id": "O6aydZBsrEo2",
        "colab_type": "text"
      },
      "source": [
        "## PART 4: Making a single prediciton"
      ]
    },
    {
      "cell_type": "code",
      "metadata": {
        "id": "7ZLf8_TMrILS",
        "colab_type": "code",
        "colab": {}
      },
      "source": [
        "import numpy as np\n",
        "from keras.preprocessing import image\n",
        "test_image = image.load_img(\n",
        "    '/content/drive/My Drive/Colab Notebooks/dataset/single_prediction/cat_or_dog_1.jpg',\n",
        "    target_size = (64, 64))\n",
        "\n",
        "#img_to_array\n",
        "test_image = image.img_to_array(test_image)\n",
        "\n",
        "test_image = np.expand_dims(test_image, axis = 0)\n",
        "result = cnn.predict(test_image)\n",
        "\n",
        "# Encoding\n",
        "training_set.class_indices\n",
        "if result[0][0] == 1:\n",
        "  prediciton = 'dog'\n",
        "\n",
        "else:\n",
        "  prediction = 'cat'"
      ],
      "execution_count": 10,
      "outputs": []
    },
    {
      "cell_type": "code",
      "metadata": {
        "id": "aivnlBVoXzF2",
        "colab_type": "code",
        "colab": {}
      },
      "source": [
        ""
      ],
      "execution_count": null,
      "outputs": []
    }
  ]
}